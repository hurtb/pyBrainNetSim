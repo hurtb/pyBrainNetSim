{
 "cells": [
  {
   "cell_type": "markdown",
   "metadata": {},
   "source": [
    "### Illustrate how to create and simulate a population within an environment\n",
    "\n",
    "_Imagine a mouse sniffing around in a room looking for cheese. This is the computational version of that experiment._\n",
    "\n",
    "The \"mouse\" in this simulation is modified neural networks with three types of neurons:\n",
    "- Motor Neurons\n",
    "- Sensory Neurons (olfactory) \n",
    "- Intern Neurons (e.g. the brain)\n",
    "\n",
    "The mouse network is simulated in time, that is evolving the neural network based on simple principles in neuroscience.\n",
    "\n",
    "One of the motivations for creating these simulations is to first determine what configurations of those better mice perform better than others, and then evaluate these configurations. For more information see\n",
    "\n",
    "This is a basic illustration of the functionality of the SensorMover using a random mouse. "
   ]
  },
  {
   "cell_type": "code",
   "execution_count": 1,
   "metadata": {
    "collapsed": false
   },
   "outputs": [],
   "source": [
    "%matplotlib inline\n",
    "import pyBrainNetSim.models.world as world\n",
    "import pyBrainNetSim.models.individuals as ind\n",
    "import pyBrainNetSim.generators.random as random\n",
    "import pyBrainNetSim.simulation.simnetwork as sim"
   ]
  },
  {
   "cell_type": "markdown",
   "metadata": {},
   "source": [
    "The first step is to create an environment for our Individual to move around in."
   ]
  },
  {
   "cell_type": "code",
   "execution_count": 2,
   "metadata": {
    "collapsed": false
   },
   "outputs": [],
   "source": [
    "my_environment = world.Environment(origin=(-10, -10), max_point=(10, 10), field_permeability=1.)"
   ]
  },
  {
   "cell_type": "markdown",
   "metadata": {},
   "source": [
    "The environment spans in a rectangular coordinate system from ``(-10, -10)`` to ``(10, 10)`` and has a ``field_permeability=1`` which describes how the attractor (i.e. a piece of food that smells) field can penetrate into the environment (higher the more penetration).\n",
    "\n",
    "Next add an attractor. This attractor emits a smell that can be sensed by our Individual. Plotted is the smell field."
   ]
  },
  {
   "cell_type": "code",
   "execution_count": 3,
   "metadata": {
    "collapsed": false
   },
   "outputs": [
    {
     "data": {
      "image/png": "[encoded data removed]",
      "text/plain": [
       "<matplotlib.figure.Figure at 0x115dd650>"
      ]
     },
     "metadata": {},
     "output_type": "display_data"
    }
   ],
   "source": [
    "food = world.Attractor(environment=my_environment, position=(3, 3), strength=10.)  # add \"food\"\n",
    "ax1 = my_environment.plot_attractor_field(upsample_factor=20)  # View the smell field"
   ]
  },
  {
   "cell_type": "markdown",
   "metadata": {},
   "source": [
    "Next the mouse is added into the environment. Think of an individual as a primitive mouse in which it is driven by an internal neural network, where some of the neurons in this network sense (olfactory), others are \"motor units\" that move the mouse, and there are internal neurons (i.e. the brain) that do the processing.\n",
    "\n",
    "Other than having the ability to move and smell above, below, left and right of it, there isn't a fixed configuration these neurons. Furthermore there are a near innumerable number of configurations this can take. This is the reason for the ``SensorMoverPropertyDistribution()`` object. Each property of within the individual can be distributed (like gaussian or a poisson distributions) or a fixed number. Details are TBD. One of the featurs of this ``SensorMoverPropertyDistribution()`` object is that it can create a random sample of an individual. This is done below, with the default values.\n",
    "\n",
    "The temporal dynamics of this network are governed by the ``HebbianNetworkBasic()`` class, which simulate in time handling the presynaptic firing, signal integration, and post-synaptic propigation at each point in time.\n"
   ]
  },
  {
   "cell_type": "code",
   "execution_count": 7,
   "metadata": {
    "collapsed": false
   },
   "outputs": [],
   "source": [
    "sm_prop_dist = random.SensorMoverPropertyDistribution()  # default set of distributions of the different variables in the mouse\n",
    "my_network = sim.HebbianNetworkBasic(sm_prop_dist.create_digraph())  # create_digraph method to creates a bi-directional network"
   ]
  },
  {
   "cell_type": "markdown",
   "metadata": {},
   "source": [
    "Now the Individual, a ``SensorMover()`` object, is placed within the environment. This will be initially placed at ``position=(-2,-2)``."
   ]
  },
  {
   "cell_type": "code",
   "execution_count": 5,
   "metadata": {
    "collapsed": false
   },
   "outputs": [],
   "source": [
    "sm1 = ind.SensorMover(environment=my_environment, initial_network=my_network, position=(-2, -2))"
   ]
  },
  {
   "cell_type": "markdown",
   "metadata": {},
   "source": [
    "Next, simulate the ``SensorMover`` forward in time 5 timesteps. Each step evaluates sensory signals from the attractor, internally evaluating presynaptic firing, signal integration, and post-synaptic propigation, and then producing a motor output. This is ev"
   ]
  },
  {
   "cell_type": "code",
   "execution_count": 6,
   "metadata": {
    "collapsed": false
   },
   "outputs": [
    {
     "data": {
      "image/png": "[encoded data removed]",
      "text/plain": [
       "<matplotlib.figure.Figure at 0x11722df0>"
      ]
     },
     "metadata": {},
     "output_type": "display_data"
    }
   ],
   "source": [
    "sm1.sim_time_steps(max_iter=5)\n",
    "ax1 = my_environment.plot_individual_trajectory(upsample_factor=20)"
   ]
  },
  {
   "cell_type": "markdown",
   "metadata": {},
   "source": []
  }
 ],
 "metadata": {
  "kernelspec": {
   "display_name": "Python 2",
   "language": "python",
   "name": "python2"
  },
  "language_info": {
   "codemirror_mode": {
    "name": "ipython",
    "version": 2
   },
   "file_extension": ".py",
   "mimetype": "text/x-python",
   "name": "python",
   "nbconvert_exporter": "python",
   "pygments_lexer": "ipython2",
   "version": "2.7"
  }
 },
 "nbformat": 4,
 "nbformat_minor": 0
}
